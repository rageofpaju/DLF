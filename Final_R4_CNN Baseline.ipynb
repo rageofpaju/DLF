{
 "cells": [
  {
   "cell_type": "code",
   "execution_count": 1,
   "id": "c613d17f",
   "metadata": {},
   "outputs": [],
   "source": [
    "import os\n",
    "import glob\n",
    "import random\n",
    "import re\n",
    "import pickle\n",
    "import gc\n",
    "\n",
    "import pandas as pd\n",
    "import numpy as np\n",
    "\n",
    "import sklearn\n",
    "from sklearn.preprocessing import StandardScaler, LabelEncoder, OneHotEncoder\n",
    "from sklearn.ensemble import RandomForestClassifier\n",
    "from sklearn.metrics import accuracy_score, precision_score, recall_score, f1_score, classification_report\n",
    "from sklearn.metrics import confusion_matrix, multilabel_confusion_matrix, plot_confusion_matrix\n",
    "\n",
    "import matplotlib\n",
    "import matplotlib.pyplot as plt\n",
    "import seaborn as sns\n",
    "from livelossplot import PlotLossesKeras\n",
    "\n",
    "import tqdm\n",
    "\n",
    "import cv2\n",
    "\n",
    "import tensorflow as tf\n",
    "\n",
    "from tensorflow.keras import layers, models, callbacks\n",
    "from tensorflow.image import resize_with_pad\n",
    "\n",
    "from tensorflow.keras.preprocessing.image import (\n",
    "    load_img, \n",
    "    img_to_array, \n",
    "    ImageDataGenerator,\n",
    "    array_to_img,\n",
    "    save_img\n",
    ")"
   ]
  },
  {
   "cell_type": "code",
   "execution_count": 2,
   "id": "07cd7e68",
   "metadata": {},
   "outputs": [],
   "source": [
    "from keras.models import Sequential\n",
    "from keras.layers import Dense, Conv2D, MaxPool2D, Flatten, Dropout\n",
    "from keras.callbacks import EarlyStopping\n",
    "from keras import optimizers\n",
    "from keras.applications.vgg16 import VGG16\n",
    "#from keras.applications.inception_v3 import InceptionV3\n",
    "#from keras.applications.resnet import ResNet50\n",
    "#from tensorflow.keras.applications.resnet50 import preprocess_input, decode_predictions"
   ]
  },
  {
   "cell_type": "markdown",
   "id": "c945b83b",
   "metadata": {},
   "source": [
    "## Image preprocessing"
   ]
  },
  {
   "cell_type": "markdown",
   "id": "6eec49a3",
   "metadata": {},
   "source": [
    "The approach is simiilar to image processing and bsic EDA for non-DL models, refer to Non-DL notebook for image size analysis, etc"
   ]
  },
  {
   "cell_type": "code",
   "execution_count": 32,
   "id": "6722fded",
   "metadata": {
    "collapsed": true
   },
   "outputs": [
    {
     "ename": "FileNotFoundError",
     "evalue": "[WinError 3] 지정된 경로를 찾을 수 없습니다: 'C:\\\\temp_workfolder\\\\rbc_mvp'",
     "output_type": "error",
     "traceback": [
      "\u001b[1;31m---------------------------------------------------------------------------\u001b[0m",
      "\u001b[1;31mFileNotFoundError\u001b[0m                         Traceback (most recent call last)",
      "\u001b[1;32m~\\AppData\\Local\\Temp/ipykernel_27616/3717181471.py\u001b[0m in \u001b[0;36m<module>\u001b[1;34m\u001b[0m\n\u001b[0;32m      1\u001b[0m \u001b[0mDIR_PATH\u001b[0m \u001b[1;33m=\u001b[0m \u001b[0mos\u001b[0m\u001b[1;33m.\u001b[0m\u001b[0mpath\u001b[0m\u001b[1;33m.\u001b[0m\u001b[0mabspath\u001b[0m\u001b[1;33m(\u001b[0m\u001b[1;34m'C:/temp_workfolder/rbc_mvp'\u001b[0m\u001b[1;33m)\u001b[0m\u001b[1;33m\u001b[0m\u001b[1;33m\u001b[0m\u001b[0m\n\u001b[1;32m----> 2\u001b[1;33m \u001b[0mfolders\u001b[0m \u001b[1;33m=\u001b[0m \u001b[0mos\u001b[0m\u001b[1;33m.\u001b[0m\u001b[0mlistdir\u001b[0m\u001b[1;33m(\u001b[0m\u001b[0mDIR_PATH\u001b[0m\u001b[1;33m)\u001b[0m\u001b[1;33m\u001b[0m\u001b[1;33m\u001b[0m\u001b[0m\n\u001b[0m",
      "\u001b[1;31mFileNotFoundError\u001b[0m: [WinError 3] 지정된 경로를 찾을 수 없습니다: 'C:\\\\temp_workfolder\\\\rbc_mvp'"
     ]
    }
   ],
   "source": [
    "DIR_PATH = os.path.abspath('C:/temp_workfolder/rbc_mvp')\n",
    "folders = os.listdir(DIR_PATH)"
   ]
  },
  {
   "cell_type": "code",
   "execution_count": 3,
   "id": "9b58ed5e",
   "metadata": {},
   "outputs": [],
   "source": [
    "TARGET_HEIGHT = 96\n",
    "TARGET_WIDTH = 96"
   ]
  },
  {
   "cell_type": "code",
   "execution_count": 3,
   "id": "c1c68570",
   "metadata": {},
   "outputs": [],
   "source": [
    "def preprocess_img_to_arr(img, target_height = TARGET_HEIGHT, target_width = TARGET_WIDTH):\n",
    "    img_arr = np.asarray(img)\n",
    "    img_tensor = tf.convert_to_tensor(img_arr)\n",
    "\n",
    "    new_img_arr = resize_with_pad(\n",
    "        img_tensor, \n",
    "        target_height, \n",
    "        target_width, \n",
    "        method = 'nearest',\n",
    "        antialias = True\n",
    "    )\n",
    "    \n",
    "    return new_img_arr"
   ]
  },
  {
   "cell_type": "code",
   "execution_count": null,
   "id": "5a9c982c",
   "metadata": {},
   "outputs": [],
   "source": [
    "# store preprocessed images in new folder\n",
    "NEW_DIR_PATH = os.path.abspath('C:/temp_workfolder/rbc_mvp/preproc')"
   ]
  },
  {
   "cell_type": "code",
   "execution_count": 119,
   "id": "1e92e50e",
   "metadata": {},
   "outputs": [],
   "source": [
    "if os.path.exists(NEW_DIR_PATH) == False:     #creates a folder if it doesn't exist\n",
    "        os.mkdir(NEW_DIR_PATH)\n",
    "    \n",
    "for folder in folders:\n",
    "    folder_path = os.path.join(DIR_PATH, folder)\n",
    "    new_folder_path = os.path.join(NEW_DIR_PATH, folder)\n",
    "    if os.path.exists(new_folder_path) == False:     #creates a folder if it doesn't exist\n",
    "        os.mkdir(new_folder_path)\n",
    "    \n",
    "    imgs = os.listdir(folder_path)\n",
    "    \n",
    "    for img in imgs:\n",
    "        img_path = os.path.join(folder_path, img)\n",
    "        new_img_path = os.path.join(new_folder_path, img)\n",
    "        \n",
    "        img = load_img(img_path)\n",
    "        img_arr = preprocess_img_to_arr(img)\n",
    "        save_img(new_img_path, img_arr)"
   ]
  },
  {
   "cell_type": "markdown",
   "id": "6c090016",
   "metadata": {},
   "source": [
    "====================================================="
   ]
  },
  {
   "cell_type": "markdown",
   "id": "faee44f9",
   "metadata": {},
   "source": [
    "### Below is train/test/val splitting the images into according folders"
   ]
  },
  {
   "cell_type": "code",
   "execution_count": 8,
   "id": "d6086b9d",
   "metadata": {},
   "outputs": [],
   "source": [
    "NEW_DIR_PATH2 = os.path.abspath('C:/temp_workfolder/rbc_keras/')"
   ]
  },
  {
   "cell_type": "code",
   "execution_count": 9,
   "id": "0fe4105a",
   "metadata": {},
   "outputs": [
    {
     "name": "stderr",
     "output_type": "stream",
     "text": [
      "Copying files: 7108 files [02:55, 40.50 files/s]\n"
     ]
    }
   ],
   "source": [
    "#https://stackoverflow.com/questions/57394135/split-image-dataset-into-train-test-datasets\n",
    "\n",
    "import splitfolders # or import splitfolders\n",
    "input_folder = NEW_DIR_PATH2\n",
    "output = os.path.join(NEW_DIR_PATH2, \"keras_split\") #where you want the split datasets saved. one will be created if it does not exist or none is set\n",
    "\n",
    "splitfolders.ratio(input_folder, output=output, seed=42, ratio=(.6, .2, .2)) # ratio of split are in order of train/val/test. You can change to whatever you want. For train/val sets only, you could do .75, .25 for example."
   ]
  },
  {
   "cell_type": "markdown",
   "id": "837d64a8",
   "metadata": {},
   "source": [
    "### Use the train-test-split image sets"
   ]
  },
  {
   "cell_type": "code",
   "execution_count": 4,
   "id": "351f3b7a",
   "metadata": {},
   "outputs": [
    {
     "data": {
      "text/plain": [
       "['test', 'train', 'val']"
      ]
     },
     "execution_count": 4,
     "metadata": {},
     "output_type": "execute_result"
    }
   ],
   "source": [
    "split_dir = 'C:/temp_workfolder/rbc_keras/keras_split' \n",
    "os.listdir(split_dir)"
   ]
  },
  {
   "cell_type": "code",
   "execution_count": 5,
   "id": "84b1a8f7",
   "metadata": {},
   "outputs": [
    {
     "data": {
      "text/plain": [
       "['test', 'train', 'val']"
      ]
     },
     "execution_count": 5,
     "metadata": {},
     "output_type": "execute_result"
    }
   ],
   "source": [
    "preproc_dir = \"C:/temp_workfolder/rbc_keras/keras_split\"\n",
    "os.listdir(preproc_dir)"
   ]
  },
  {
   "cell_type": "markdown",
   "id": "588ca101",
   "metadata": {},
   "source": [
    "# ==================="
   ]
  },
  {
   "cell_type": "code",
   "execution_count": null,
   "id": "e69678ce",
   "metadata": {},
   "outputs": [],
   "source": []
  },
  {
   "cell_type": "markdown",
   "id": "f519d120",
   "metadata": {},
   "source": [
    "## 0. Augemnting and creating image data\n",
    "### For NN modelling I will use the train-val-test set obtained from splitfolders "
   ]
  },
  {
   "cell_type": "code",
   "execution_count": 4,
   "id": "b1d5b79a",
   "metadata": {},
   "outputs": [],
   "source": [
    "datagen = ImageDataGenerator(\n",
    "    rescale = 1./255,\n",
    "    horizontal_flip = True,\n",
    "    vertical_flip = True,\n",
    ")"
   ]
  },
  {
   "cell_type": "markdown",
   "id": "a5a03b04",
   "metadata": {},
   "source": [
    "Parameters tuned for NN modeling are image size and batch sizes"
   ]
  },
  {
   "cell_type": "code",
   "execution_count": 5,
   "id": "78da85e6",
   "metadata": {},
   "outputs": [
    {
     "name": "stdout",
     "output_type": "stream",
     "text": [
      "Found 4261 images belonging to 9 classes.\n",
      "Found 1418 images belonging to 9 classes.\n",
      "Found 1429 images belonging to 9 classes.\n"
     ]
    }
   ],
   "source": [
    "train_gen = datagen.flow_from_directory(\n",
    "    'C:/temp_workfolder/rbc_keras/keras_split/train',\n",
    "    target_size = (TARGET_HEIGHT, TARGET_WIDTH),\n",
    "    batch_size = 32,\n",
    "    class_mode = 'categorical',\n",
    "    interpolation='nearest',\n",
    "    seed = 42,\n",
    "    shuffle = True\n",
    ")\n",
    "\n",
    "val_gen = datagen.flow_from_directory(\n",
    "    'C:/temp_workfolder/rbc_keras/keras_split/val',\n",
    "    target_size = (TARGET_HEIGHT, TARGET_WIDTH),\n",
    "    batch_size = 32,\n",
    "    class_mode = 'categorical',\n",
    "    interpolation='nearest',\n",
    "    seed = 42,\n",
    "    shuffle = True\n",
    ")\n",
    "\n",
    "test_gen = datagen.flow_from_directory(\n",
    "    'C:/temp_workfolder/rbc_keras/keras_split/test',\n",
    "    target_size = (TARGET_HEIGHT, TARGET_WIDTH),\n",
    "    batch_size = 32,\n",
    "    class_mode = 'categorical',   #'categorical'\n",
    "    interpolation='nearest',\n",
    "    seed = 42,\n",
    "    shuffle = True\n",
    ")"
   ]
  },
  {
   "cell_type": "code",
   "execution_count": 6,
   "id": "99402509",
   "metadata": {},
   "outputs": [
    {
     "data": {
      "text/plain": [
       "{'acantocyte': 0,\n",
       " 'elliptocyte': 1,\n",
       " 'hypochromic': 2,\n",
       " 'normal': 3,\n",
       " 'pencil': 4,\n",
       " 'spero_bulat': 5,\n",
       " 'stomatocyte': 6,\n",
       " 'targetsel': 7,\n",
       " 'teardrop': 8}"
      ]
     },
     "execution_count": 6,
     "metadata": {},
     "output_type": "execute_result"
    }
   ],
   "source": [
    "train_gen.class_indices"
   ]
  },
  {
   "cell_type": "code",
   "execution_count": 7,
   "id": "b0f7e23e",
   "metadata": {},
   "outputs": [],
   "source": [
    "#train_gen.filenames[1000:1010]"
   ]
  },
  {
   "cell_type": "code",
   "execution_count": 7,
   "id": "74eb5bac",
   "metadata": {},
   "outputs": [
    {
     "name": "stdout",
     "output_type": "stream",
     "text": [
      "(32, 96, 96, 3)\n",
      "(32, 9)\n"
     ]
    }
   ],
   "source": [
    "X_train, Y_train = next(train_gen)\n",
    "print(X_train.shape)\n",
    "print(Y_train.shape)"
   ]
  },
  {
   "cell_type": "code",
   "execution_count": 8,
   "id": "862cdee3",
   "metadata": {},
   "outputs": [
    {
     "name": "stdout",
     "output_type": "stream",
     "text": [
      "(32, 96, 96, 3)\n",
      "(32, 9)\n"
     ]
    }
   ],
   "source": [
    "X_val, Y_val = next(val_gen)\n",
    "print(X_val.shape)\n",
    "print(Y_val.shape)"
   ]
  },
  {
   "cell_type": "code",
   "execution_count": 20,
   "id": "c24a13af",
   "metadata": {},
   "outputs": [
    {
     "name": "stdout",
     "output_type": "stream",
     "text": [
      "(32, 96, 96, 3)\n",
      "(32, 9)\n"
     ]
    }
   ],
   "source": [
    "X_test, Y_test = next(test_gen)\n",
    "print(X_test.shape)\n",
    "print(Y_test.shape)"
   ]
  },
  {
   "cell_type": "markdown",
   "id": "606b7649",
   "metadata": {},
   "source": [
    "## 1. Building a custom CNN model - Initial Attempt\n",
    "- This was the first attemp at custom CNN model\n"
   ]
  },
  {
   "cell_type": "code",
   "execution_count": 26,
   "id": "19ca1bd8",
   "metadata": {},
   "outputs": [
    {
     "data": {
      "text/plain": [
       "1148"
      ]
     },
     "execution_count": 26,
     "metadata": {},
     "output_type": "execute_result"
    }
   ],
   "source": [
    "model = Sequential([\n",
    "    \n",
    "    layers.Conv2D(filters=16,kernel_size=3, activation='relu',input_shape=(TARGET_HEIGHT,TARGET_WIDTH,3)),\n",
    "    layers.MaxPool2D((2,2)),\n",
    "\n",
    "    layers.Conv2D(filters=32,kernel_size=3,activation='relu'),\n",
    "    layers.MaxPool2D((2,2)),\n",
    "\n",
    "    layers.Conv2D(filters=64,kernel_size=3,activation='relu'),\n",
    "    layers.MaxPool2D((2,2)),\n",
    "\n",
    "    layers.Flatten(),\n",
    "    layers.Dense(512, activation='relu'),\n",
    "    layers.Dense(9, activation='softmax'),\n",
    "])\n",
    "\n",
    "tf.keras.backend.clear_session() \n",
    "gc.collect()"
   ]
  },
  {
   "cell_type": "code",
   "execution_count": 29,
   "id": "2daa595e",
   "metadata": {},
   "outputs": [
    {
     "name": "stdout",
     "output_type": "stream",
     "text": [
      "Model: \"sequential\"\n",
      "_________________________________________________________________\n",
      " Layer (type)                Output Shape              Param #   \n",
      "=================================================================\n",
      " conv2d (Conv2D)             (None, 94, 94, 16)        448       \n",
      "                                                                 \n",
      " max_pooling2d (MaxPooling2D  (None, 47, 47, 16)       0         \n",
      " )                                                               \n",
      "                                                                 \n",
      " conv2d_1 (Conv2D)           (None, 45, 45, 32)        4640      \n",
      "                                                                 \n",
      " max_pooling2d_1 (MaxPooling  (None, 22, 22, 32)       0         \n",
      " 2D)                                                             \n",
      "                                                                 \n",
      " conv2d_2 (Conv2D)           (None, 20, 20, 64)        18496     \n",
      "                                                                 \n",
      " max_pooling2d_2 (MaxPooling  (None, 10, 10, 64)       0         \n",
      " 2D)                                                             \n",
      "                                                                 \n",
      " flatten (Flatten)           (None, 6400)              0         \n",
      "                                                                 \n",
      " dense (Dense)               (None, 512)               3277312   \n",
      "                                                                 \n",
      " dense_1 (Dense)             (None, 9)                 4617      \n",
      "                                                                 \n",
      "=================================================================\n",
      "Total params: 3,305,513\n",
      "Trainable params: 3,305,513\n",
      "Non-trainable params: 0\n",
      "_________________________________________________________________\n"
     ]
    }
   ],
   "source": [
    "model.compile(loss='categorical_crossentropy',\n",
    "              optimizer='adam',\n",
    "              metrics=['accuracy'])\n",
    "model.summary()"
   ]
  },
  {
   "cell_type": "code",
   "execution_count": 31,
   "id": "dd2ac5a5",
   "metadata": {},
   "outputs": [
    {
     "data": {
      "text/plain": [
       "0"
      ]
     },
     "execution_count": 31,
     "metadata": {},
     "output_type": "execute_result"
    }
   ],
   "source": [
    "gc.collect()\n"
   ]
  },
  {
   "cell_type": "code",
   "execution_count": 30,
   "id": "54b2dea0",
   "metadata": {},
   "outputs": [
    {
     "data": {
      "image/png": "[encoded data removed]",
      "text/plain": [
       "<Figure size 1200x800 with 2 Axes>"
      ]
     },
     "metadata": {},
     "output_type": "display_data"
    },
    {
     "name": "stdout",
     "output_type": "stream",
     "text": [
      "accuracy\n",
      "\ttraining         \t (min:    0.094, max:    1.000, cur:    1.000)\n",
      "\tvalidation       \t (min:    0.344, max:    0.562, cur:    0.562)\n",
      "Loss\n",
      "\ttraining         \t (min:    0.012, max:    2.199, cur:    0.012)\n",
      "\tvalidation       \t (min:    1.811, max:    4.984, cur:    4.984)\n",
      "\b\b\b\b\b\b\b\b\b\b\b\b\b\b\b\b\b\b\b\b\b\b\b\b\b\b\b\b\b\b\b\b\b\b\b\b\b\b\b\b\b\b\b\b\b\b\b\b\b\b\b\b\b\b\b\b\b\b\b\b\b\b\b\b\b\b\b\b\b\b\b\b\b\b\b\b\b\b\b\b\r",
      "1/1 [==============================] - 0s 450ms/step - loss: 0.0116 - accuracy: 1.0000 - val_loss: 4.9837 - val_accuracy: 0.5625\n"
     ]
    },
    {
     "data": {
      "text/plain": [
       "48665"
      ]
     },
     "execution_count": 30,
     "metadata": {},
     "output_type": "execute_result"
    }
   ],
   "source": [
    "model.fit(X_train,\n",
    "               Y_train,\n",
    "               epochs=100,\n",
    "               #steps_per_epoch=32,\n",
    "               validation_data=(X_val,Y_val),\n",
    "               validation_freq=1,\n",
    "               callbacks=[EarlyStopping(patience=16, verbose=0),PlotLossesKeras()]\n",
    "              )\n",
    "gc.collect()"
   ]
  }
 ],
 "metadata": {
  "kernelspec": {
   "display_name": "Python 3 (ipykernel)",
   "language": "python",
   "name": "python3"
  },
  "language_info": {
   "codemirror_mode": {
    "name": "ipython",
    "version": 3
   },
   "file_extension": ".py",
   "mimetype": "text/x-python",
   "name": "python",
   "nbconvert_exporter": "python",
   "pygments_lexer": "ipython3",
   "version": "3.9.7"
  }
 },
 "nbformat": 4,
 "nbformat_minor": 5
}
